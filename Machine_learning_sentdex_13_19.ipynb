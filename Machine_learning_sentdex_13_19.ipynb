{
  "nbformat": 4,
  "nbformat_minor": 0,
  "metadata": {
    "colab": {
      "provenance": [],
      "authorship_tag": "ABX9TyM5z3Fcxzjr8/CJ3gPaOdfB",
      "include_colab_link": true
    },
    "kernelspec": {
      "name": "python3",
      "display_name": "Python 3"
    },
    "language_info": {
      "name": "python"
    }
  },
  "cells": [
    {
      "cell_type": "markdown",
      "metadata": {
        "id": "view-in-github",
        "colab_type": "text"
      },
      "source": [
        "<a href=\"https://colab.research.google.com/github/cobase2010/Online_Learning/blob/main/Machine_learning_sentdex_13_19.ipynb\" target=\"_parent\"><img src=\"https://colab.research.google.com/assets/colab-badge.svg\" alt=\"Open In Colab\"/></a>"
      ]
    },
    {
      "cell_type": "code",
      "source": [
        "!wget -nc https://archive.ics.uci.edu/ml/machine-learning-databases/breast-cancer-wisconsin/breast-cancer-wisconsin.data "
      ],
      "metadata": {
        "colab": {
          "base_uri": "https://localhost:8080/"
        },
        "id": "eooM0MGMs0jQ",
        "outputId": "7a2ef022-c218-4ae0-e404-bc329a38bf8f"
      },
      "execution_count": 1,
      "outputs": [
        {
          "output_type": "stream",
          "name": "stdout",
          "text": [
            "--2022-12-13 21:29:53--  https://archive.ics.uci.edu/ml/machine-learning-databases/breast-cancer-wisconsin/breast-cancer-wisconsin.data\n",
            "Resolving archive.ics.uci.edu (archive.ics.uci.edu)... 128.195.10.252\n",
            "Connecting to archive.ics.uci.edu (archive.ics.uci.edu)|128.195.10.252|:443... connected.\n",
            "HTTP request sent, awaiting response... 200 OK\n",
            "Length: 19889 (19K) [application/x-httpd-php]\n",
            "Saving to: ‘breast-cancer-wisconsin.data’\n",
            "\n",
            "breast-cancer-wisco 100%[===================>]  19.42K  --.-KB/s    in 0.07s   \n",
            "\n",
            "2022-12-13 21:29:53 (285 KB/s) - ‘breast-cancer-wisconsin.data’ saved [19889/19889]\n",
            "\n"
          ]
        }
      ]
    },
    {
      "cell_type": "code",
      "execution_count": 2,
      "metadata": {
        "colab": {
          "base_uri": "https://localhost:8080/"
        },
        "id": "g5EbrmqlsTD5",
        "outputId": "7d7446b0-e58a-4616-de1e-0832374eb647"
      },
      "outputs": [
        {
          "output_type": "stream",
          "name": "stdout",
          "text": [
            "699\n",
            "0.95\n"
          ]
        },
        {
          "output_type": "stream",
          "name": "stderr",
          "text": [
            "<ipython-input-2-bd0fef53a75e>:15: FutureWarning: In a future version of pandas all arguments of DataFrame.drop except for the argument 'labels' will be keyword-only\n",
            "  df.drop(['id'], 1, inplace=True)\n",
            "<ipython-input-2-bd0fef53a75e>:17: FutureWarning: In a future version of pandas all arguments of DataFrame.drop except for the argument 'labels' will be keyword-only\n",
            "  X = np.array(df.drop(['class'], 1))\n"
          ]
        }
      ],
      "source": [
        "import numpy as np\n",
        "from sklearn import preprocessing, neighbors\n",
        "from sklearn.model_selection import train_test_split\n",
        "import pandas as pd\n",
        "\n",
        "\n",
        "df = pd.read_csv('breast-cancer-wisconsin.data', header=None)\n",
        "df.columns = ['id','clump_thickness','uniform_cell_size',\n",
        "'uniform_cell_shape','marginal_adhesion',\n",
        "'single_epi_cell_size','bare_nuclei','bland_chromation',\n",
        "'normal_nucleoli','mitoses','class']\n",
        "print(len(df))\n",
        "\n",
        "df.replace('?',-99999, inplace=True)\n",
        "df.drop(['id'], 1, inplace=True)\n",
        "\n",
        "X = np.array(df.drop(['class'], 1))\n",
        "y = np.array(df['class'])\n",
        "\n",
        "X_train, X_test, y_train, y_test = train_test_split(X, y, test_size=0.2)\n",
        "\n",
        "clf = neighbors.KNeighborsClassifier()\n",
        "clf.fit(X_train, y_train)\n",
        "accuracy = clf.score(X_test, y_test)\n",
        "print(accuracy)"
      ]
    },
    {
      "cell_type": "code",
      "source": [
        "example_measures = np.array([[4,2,1,1,1,2,3,2,1],[4,2,1,1,1,2,3,2,1]])\n",
        "print(example_measures.shape)\n",
        "# example_measures = example_measures.reshape(len(example_measures), -1)\n",
        "# example_measures = example_measures.reshape(example_measures.shape[0], -1)\n",
        "prediction = clf.predict(example_measures)\n",
        "print(prediction)"
      ],
      "metadata": {
        "colab": {
          "base_uri": "https://localhost:8080/"
        },
        "id": "H_26hWPpwUFO",
        "outputId": "bb7dc536-90bd-450d-b234-cb8a2a0bcdfe"
      },
      "execution_count": 3,
      "outputs": [
        {
          "output_type": "stream",
          "name": "stdout",
          "text": [
            "(2, 9)\n",
            "[2 2]\n"
          ]
        }
      ]
    },
    {
      "cell_type": "code",
      "source": [
        "import numpy as np\n",
        "import matplotlib.pyplot as plt\n",
        "from matplotlib import style\n",
        "import warnings\n",
        "from math import sqrt\n",
        "from collections import Counter\n",
        "style.use('fivethirtyeight')\n",
        "\n",
        "def k_nearest_neighbors(data, predict, k=3):\n",
        "    if len(data) >= k:\n",
        "        warnings.warn('K is set to a value less than total voting groups!')\n",
        "        \n",
        "    distances = []\n",
        "    for group in data:\n",
        "        for features in data[group]:\n",
        "            euclidean_distance = np.linalg.norm(np.array(features)-np.array(predict))\n",
        "            distances.append([euclidean_distance,group])\n",
        "\n",
        "    votes = [i[1] for i in sorted(distances)[:k]]\n",
        "    vote_result = Counter(votes).most_common(1)[0][0]\n",
        "    return vote_result\n",
        "\n",
        "dataset = {'k':[[1,2],[2,3],[3,1]], 'r':[[6,5],[7,7],[8,6]]}\n",
        "new_features = [5,7]\n",
        "[[plt.scatter(ii[0],ii[1],s=100,color=i) for ii in dataset[i]] for i in dataset]\n",
        "# same as:\n",
        "##for i in dataset:\n",
        "##    for ii in dataset[i]:\n",
        "##        plt.scatter(ii[0],ii[1],s=100,color=i)\n",
        "        \n",
        "plt.scatter(new_features[0], new_features[1], s=100)\n",
        "\n",
        "result = k_nearest_neighbors(dataset, new_features)\n",
        "plt.scatter(new_features[0], new_features[1], s=100, color = result)  \n",
        "plt.show()"
      ],
      "metadata": {
        "colab": {
          "base_uri": "https://localhost:8080/",
          "height": 282
        },
        "id": "CATatF-aIZEO",
        "outputId": "1f6fab0a-57c6-41e3-edca-d6bd22c78d75"
      },
      "execution_count": 4,
      "outputs": [
        {
          "output_type": "display_data",
          "data": {
            "text/plain": [
              "<Figure size 432x288 with 1 Axes>"
            ],
            "image/png": "[encoded data removed]"
          },
          "metadata": {}
        }
      ]
    },
    {
      "cell_type": "markdown",
      "source": [
        "# K nearest neighbor implmentation"
      ],
      "metadata": {
        "id": "M7R-UnJwZn-p"
      }
    },
    {
      "cell_type": "code",
      "source": [
        "import numpy as np\n",
        "import matplotlib.pyplot as plt\n",
        "from matplotlib import style\n",
        "import warnings\n",
        "from collections import Counter\n",
        "#dont forget this\n",
        "import pandas as pd\n",
        "import random\n",
        "style.use('fivethirtyeight')\n",
        "\n",
        "def k_nearest_neighbors(data, predict, k=3):\n",
        "    if len(data) >= k:\n",
        "        warnings.warn('K is set to a value less than total voting groups!')\n",
        "    distances = []\n",
        "    for group in data:\n",
        "        for features in data[group]:\n",
        "            euclidean_distance = np.linalg.norm(np.array(features)-np.array(predict))\n",
        "            distances.append([euclidean_distance, group])\n",
        "\n",
        "    votes = [i[1] for i in sorted(distances)[:k]]\n",
        "    vote_result = Counter(votes).most_common(1)[0][0]\n",
        "    confidence = Counter(votes).most_common(1)[0][1] / k\n",
        "  \n",
        "    return vote_result, confidence\n",
        "\n",
        "df = pd.read_csv('breast-cancer-wisconsin.data', header=None)\n",
        "df.columns = ['id','clump_thickness','uniform_cell_size',\n",
        "'uniform_cell_shape','marginal_adhesion',\n",
        "'single_epi_cell_size','bare_nuclei','bland_chromation',\n",
        "'normal_nucleoli','mitoses','class']\n",
        "print(len(df))\n",
        "df.replace('?',-99999, inplace=True)\n",
        "df.drop(['id'], 1, inplace=True)\n",
        "full_data = df.astype(float).values.tolist()\n",
        "\n",
        "random.shuffle(full_data)\n",
        "\n",
        "test_size = 0.4\n",
        "train_set = {2:[], 4:[]}\n",
        "test_set = {2:[], 4:[]}\n",
        "train_data = full_data[:-int(test_size*len(full_data))]\n",
        "test_data = full_data[-int(test_size*len(full_data)):]\n",
        "\n",
        "for i in train_data:\n",
        "    train_set[i[-1]].append(i[:-1])\n",
        "    \n",
        "for i in test_data:\n",
        "    test_set[i[-1]].append(i[:-1])\n",
        "\n",
        "correct = 0\n",
        "total = 0\n",
        "\n",
        "for group in test_set:\n",
        "    for data in test_set[group]:\n",
        "        vote,confidence = k_nearest_neighbors(train_set, data, k=5)\n",
        "        if group == vote:\n",
        "            correct += 1\n",
        "        else:\n",
        "          print(\"Incorrect: \", confidence)\n",
        "        total += 1\n",
        "print('Accuracy:', correct/total)"
      ],
      "metadata": {
        "colab": {
          "base_uri": "https://localhost:8080/"
        },
        "id": "kLqmiyu1RaDr",
        "outputId": "af3409c6-4902-4f1e-8e3e-da7468ee1c84"
      },
      "execution_count": 5,
      "outputs": [
        {
          "output_type": "stream",
          "name": "stdout",
          "text": [
            "699\n",
            "Incorrect: "
          ]
        },
        {
          "output_type": "stream",
          "name": "stderr",
          "text": [
            "<ipython-input-5-7de42ae956e4>:33: FutureWarning: In a future version of pandas all arguments of DataFrame.drop except for the argument 'labels' will be keyword-only\n",
            "  df.drop(['id'], 1, inplace=True)\n"
          ]
        },
        {
          "output_type": "stream",
          "name": "stdout",
          "text": [
            " 0.8\n",
            "Incorrect:  0.6\n",
            "Incorrect:  0.6\n",
            "Incorrect:  0.6\n",
            "Incorrect:  1.0\n",
            "Incorrect:  0.6\n",
            "Accuracy: 0.978494623655914\n"
          ]
        }
      ]
    },
    {
      "cell_type": "markdown",
      "source": [
        "# Support Vector Machine"
      ],
      "metadata": {
        "id": "Xxq0o8dkZdIQ"
      }
    },
    {
      "cell_type": "code",
      "source": [
        "import numpy as np\n",
        "from sklearn import preprocessing, neighbors, svm\n",
        "from sklearn.model_selection import train_test_split\n",
        "import pandas as pd\n",
        "\n",
        "\n",
        "df = pd.read_csv('breast-cancer-wisconsin.data', header=None)\n",
        "df.columns = ['id','clump_thickness','uniform_cell_size',\n",
        "'uniform_cell_shape','marginal_adhesion',\n",
        "'single_epi_cell_size','bare_nuclei','bland_chromation',\n",
        "'normal_nucleoli','mitoses','class']\n",
        "print(len(df))\n",
        "\n",
        "df.replace('?',-99999, inplace=True)\n",
        "df.drop(['id'], 1, inplace=True)\n",
        "\n",
        "X = np.array(df.drop(['class'], 1))\n",
        "y = np.array(df['class'])\n",
        "\n",
        "X_train, X_test, y_train, y_test = train_test_split(X, y, test_size=0.2)\n",
        "\n",
        "clf = svm.SVC(kernel='linear')\n",
        "clf.fit(X_train, y_train)\n",
        "accuracy = clf.score(X_test, y_test)\n",
        "print(accuracy)"
      ],
      "metadata": {
        "id": "py9JcbJOY5fu",
        "outputId": "08dc51db-9070-42f4-ec86-b61cc0cb6983",
        "colab": {
          "base_uri": "https://localhost:8080/"
        }
      },
      "execution_count": 9,
      "outputs": [
        {
          "output_type": "stream",
          "name": "stdout",
          "text": [
            "699\n",
            "0.9714285714285714\n"
          ]
        },
        {
          "output_type": "stream",
          "name": "stderr",
          "text": [
            "<ipython-input-9-f44db7007484>:15: FutureWarning: In a future version of pandas all arguments of DataFrame.drop except for the argument 'labels' will be keyword-only\n",
            "  df.drop(['id'], 1, inplace=True)\n",
            "<ipython-input-9-f44db7007484>:17: FutureWarning: In a future version of pandas all arguments of DataFrame.drop except for the argument 'labels' will be keyword-only\n",
            "  X = np.array(df.drop(['class'], 1))\n"
          ]
        }
      ]
    },
    {
      "cell_type": "code",
      "source": [
        "import matplotlib.pyplot as plt\n",
        "from matplotlib import style\n",
        "import numpy as np\n",
        "from datetime import datetime\n",
        "style.use('ggplot')\n",
        "\n",
        "class Support_Vector_Machine:\n",
        "    def __init__(self, visualization=True):\n",
        "        self.visualization = visualization\n",
        "        self.colors = {1:'r',-1:'b'}\n",
        "        if self.visualization:\n",
        "            self.fig = plt.figure()\n",
        "            self.ax = self.fig.add_subplot(1,1,1)\n",
        "    # train\n",
        "    def fit(self, data):\n",
        "        self.data = data\n",
        "        # { ||w||: [w,b] }\n",
        "        opt_dict = {}\n",
        "\n",
        "        transforms = [[1,1],\n",
        "                      [-1,1],\n",
        "                      [-1,-1],\n",
        "                      [1,-1]]\n",
        "\n",
        "        all_data = []\n",
        "        for yi in self.data:\n",
        "            for featureset in self.data[yi]:\n",
        "                for feature in featureset:\n",
        "                    all_data.append(feature)\n",
        "\n",
        "        self.max_feature_value = max(all_data)\n",
        "        self.min_feature_value = min(all_data)\n",
        "        all_data = None\n",
        "\n",
        "        # support vectors yi(xi.w+b) = 1\n",
        "        \n",
        "\n",
        "        step_sizes = [self.max_feature_value * 0.1,\n",
        "                      self.max_feature_value * 0.01,\n",
        "                      # point of expense:\n",
        "                      self.max_feature_value * 0.001,\n",
        "                      ]\n",
        "\n",
        "        \n",
        "        \n",
        "        # extremely expensive\n",
        "        b_range_multiple = 5\n",
        "        # we dont need to take as small of steps\n",
        "        # with b as we do w\n",
        "        b_multiple = 5\n",
        "        latest_optimum = self.max_feature_value*10\n",
        "        \n",
        "        for step in step_sizes:\n",
        "            w = np.array([latest_optimum,latest_optimum])\n",
        "            # we can do this because convex\n",
        "            optimized = False\n",
        "            while not optimized:\n",
        "                for b in np.arange(-1*(self.max_feature_value*b_range_multiple),\n",
        "                                   self.max_feature_value*b_range_multiple,\n",
        "                                   step*b_multiple):\n",
        "                    for transformation in transforms:\n",
        "                        w_t = w*transformation\n",
        "                        found_option = True\n",
        "                        # weakest link in the SVM fundamentally\n",
        "                        # SMO attempts to fix this a bit\n",
        "                        # yi(xi.w+b) >= 1\n",
        "                        # \n",
        "                        # #### add a break here later..\n",
        "                        for i in self.data:\n",
        "                            for xi in self.data[i]:\n",
        "                                yi=i\n",
        "                                if not yi*(np.dot(w_t,xi)+b) >= 1:\n",
        "                                    found_option = False\n",
        "                                    break\n",
        "                                    #print(xi,':',yi*(np.dot(w_t,xi)+b))\n",
        "                            if not found_option:\n",
        "                              break           \n",
        "                        if found_option:\n",
        "                            opt_dict[np.linalg.norm(w_t)] = [w_t,b]\n",
        "\n",
        "                if w[0] < 0:\n",
        "                    optimized = True\n",
        "                    print('Optimized a step.')\n",
        "                else:\n",
        "                    w = w - step\n",
        "\n",
        "            norms = sorted([n for n in opt_dict])\n",
        "            #||w|| : [w,b]\n",
        "            opt_choice = opt_dict[norms[0]]\n",
        "            self.w = opt_choice[0]\n",
        "            self.b = opt_choice[1]\n",
        "            latest_optimum = opt_choice[0][0]+step*2\n",
        "            \n",
        "        for i in self.data:\n",
        "            for xi in self.data[i]:\n",
        "                yi=i\n",
        "                print(xi,':',yi*(np.dot(self.w,xi)+self.b))            \n",
        "\n",
        "    def predict(self,features):\n",
        "        # sign( x.w+b )\n",
        "        classification = np.sign(np.dot(np.array(features),self.w)+self.b)\n",
        "        if classification !=0 and self.visualization:\n",
        "            self.ax.scatter(features[0], features[1], s=200, marker='*', c=self.colors[classification])\n",
        "        return classification\n",
        "\n",
        "    def visualize(self):\n",
        "        [[self.ax.scatter(x[0],x[1],s=100,color=self.colors[i]) for x in data_dict[i]] for i in data_dict]\n",
        "\n",
        "        # hyperplane = x.w+b\n",
        "        # v = x.w+b\n",
        "        # psv = 1\n",
        "        # nsv = -1\n",
        "        # dec = 0\n",
        "        def hyperplane(x,w,b,v):\n",
        "            return (-w[0]*x-b+v) / w[1]\n",
        "\n",
        "        datarange = (self.min_feature_value*0.9,self.max_feature_value*1.1)\n",
        "        hyp_x_min = datarange[0]\n",
        "        hyp_x_max = datarange[1]\n",
        "\n",
        "        # (w.x+b) = 1\n",
        "        # positive support vector hyperplane\n",
        "        psv1 = hyperplane(hyp_x_min, self.w, self.b, 1)\n",
        "        psv2 = hyperplane(hyp_x_max, self.w, self.b, 1)\n",
        "        self.ax.plot([hyp_x_min,hyp_x_max],[psv1,psv2], 'k')\n",
        "\n",
        "        # (w.x+b) = -1\n",
        "        # negative support vector hyperplane\n",
        "        nsv1 = hyperplane(hyp_x_min, self.w, self.b, -1)\n",
        "        nsv2 = hyperplane(hyp_x_max, self.w, self.b, -1)\n",
        "        self.ax.plot([hyp_x_min,hyp_x_max],[nsv1,nsv2], 'k')\n",
        "\n",
        "        # (w.x+b) = 0\n",
        "        # positive support vector hyperplane\n",
        "        db1 = hyperplane(hyp_x_min, self.w, self.b, 0)\n",
        "        db2 = hyperplane(hyp_x_max, self.w, self.b, 0)\n",
        "        self.ax.plot([hyp_x_min,hyp_x_max],[db1,db2], 'y--')\n",
        "\n",
        "        plt.show()\n",
        "        \n",
        "data_dict = {-1:np.array([[1,7],\n",
        "                          [2,8],\n",
        "                          [3,8],]),\n",
        "             \n",
        "             1:np.array([[5,1],\n",
        "                         [6,-1],\n",
        "                         [7,3],])}\n",
        "\n",
        "svm = Support_Vector_Machine()\n",
        "start = datetime.now()\n",
        "svm.fit(data=data_dict)\n",
        "end = datetime.now()\n",
        "print(\"SVM fit took\", (end-start), \"seconds.\")\n",
        "\n",
        "predict_us = [[0,10],\n",
        "              [1,3],\n",
        "              [3,4],\n",
        "              [3,5],\n",
        "              [5,5],\n",
        "              [5,6],\n",
        "              [6,-5],\n",
        "              [5,8]]\n",
        "\n",
        "for p in predict_us:\n",
        "    svm.predict(p)\n",
        "\n",
        "svm.visualize()"
      ],
      "metadata": {
        "id": "WPn6X5rvlUd1",
        "outputId": "d35ad6c9-cbc3-4ed4-e598-a0a03f3c837a",
        "colab": {
          "base_uri": "https://localhost:8080/",
          "height": 439
        }
      },
      "execution_count": 12,
      "outputs": [
        {
          "output_type": "stream",
          "name": "stdout",
          "text": [
            "Optimized a step.\n",
            "Optimized a step.\n",
            "Optimized a step.\n",
            "[1 7] : 1.2239999999999465\n",
            "[2 8] : 1.2239999999999465\n",
            "[3 8] : 1.000000000000098\n",
            "[5 1] : 1.015999999998539\n",
            "[ 6 -1] : 1.6879999999980846\n",
            "[7 3] : 1.015999999998539\n",
            "SVM fit took 0:00:05.282939 seconds.\n"
          ]
        },
        {
          "output_type": "display_data",
          "data": {
            "text/plain": [
              "<Figure size 432x288 with 1 Axes>"
            ],
            "image/png": "[encoded data removed]"
          },
          "metadata": {}
        }
      ]
    }
  ]
}