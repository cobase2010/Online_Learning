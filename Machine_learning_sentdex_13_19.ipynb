{
  "nbformat": 4,
  "nbformat_minor": 0,
  "metadata": {
    "colab": {
      "provenance": [],
      "authorship_tag": "ABX9TyMmyeTq6PJgBT+SEgZhsPf1",
      "include_colab_link": true
    },
    "kernelspec": {
      "name": "python3",
      "display_name": "Python 3"
    },
    "language_info": {
      "name": "python"
    }
  },
  "cells": [
    {
      "cell_type": "markdown",
      "metadata": {
        "id": "view-in-github",
        "colab_type": "text"
      },
      "source": [
        "<a href=\"https://colab.research.google.com/github/cobase2010/Online_Learning/blob/main/Machine_learning_sentdex_13_19.ipynb\" target=\"_parent\"><img src=\"https://colab.research.google.com/assets/colab-badge.svg\" alt=\"Open In Colab\"/></a>"
      ]
    },
    {
      "cell_type": "code",
      "source": [
        "!wget -nc https://archive.ics.uci.edu/ml/machine-learning-databases/breast-cancer-wisconsin/breast-cancer-wisconsin.data "
      ],
      "metadata": {
        "colab": {
          "base_uri": "https://localhost:8080/"
        },
        "id": "eooM0MGMs0jQ",
        "outputId": "44e48c59-f37c-4142-f744-65b0e9998e68"
      },
      "execution_count": 37,
      "outputs": [
        {
          "output_type": "stream",
          "name": "stdout",
          "text": [
            "File ‘breast-cancer-wisconsin.data’ already there; not retrieving.\n",
            "\n"
          ]
        }
      ]
    },
    {
      "cell_type": "code",
      "execution_count": 38,
      "metadata": {
        "colab": {
          "base_uri": "https://localhost:8080/"
        },
        "id": "g5EbrmqlsTD5",
        "outputId": "527158be-45e3-402d-9ba5-7ea43a612cae"
      },
      "outputs": [
        {
          "output_type": "stream",
          "name": "stdout",
          "text": [
            "699\n",
            "0.9428571428571428\n"
          ]
        },
        {
          "output_type": "stream",
          "name": "stderr",
          "text": [
            "<ipython-input-38-bd0fef53a75e>:15: FutureWarning: In a future version of pandas all arguments of DataFrame.drop except for the argument 'labels' will be keyword-only\n",
            "  df.drop(['id'], 1, inplace=True)\n",
            "<ipython-input-38-bd0fef53a75e>:17: FutureWarning: In a future version of pandas all arguments of DataFrame.drop except for the argument 'labels' will be keyword-only\n",
            "  X = np.array(df.drop(['class'], 1))\n"
          ]
        }
      ],
      "source": [
        "import numpy as np\n",
        "from sklearn import preprocessing, neighbors\n",
        "from sklearn.model_selection import train_test_split\n",
        "import pandas as pd\n",
        "\n",
        "\n",
        "df = pd.read_csv('breast-cancer-wisconsin.data', header=None)\n",
        "df.columns = ['id','clump_thickness','uniform_cell_size',\n",
        "'uniform_cell_shape','marginal_adhesion',\n",
        "'single_epi_cell_size','bare_nuclei','bland_chromation',\n",
        "'normal_nucleoli','mitoses','class']\n",
        "print(len(df))\n",
        "\n",
        "df.replace('?',-99999, inplace=True)\n",
        "df.drop(['id'], 1, inplace=True)\n",
        "\n",
        "X = np.array(df.drop(['class'], 1))\n",
        "y = np.array(df['class'])\n",
        "\n",
        "X_train, X_test, y_train, y_test = train_test_split(X, y, test_size=0.2)\n",
        "\n",
        "clf = neighbors.KNeighborsClassifier()\n",
        "clf.fit(X_train, y_train)\n",
        "accuracy = clf.score(X_test, y_test)\n",
        "print(accuracy)"
      ]
    },
    {
      "cell_type": "code",
      "source": [
        "example_measures = np.array([[4,2,1,1,1,2,3,2,1],[4,2,1,1,1,2,3,2,1]])\n",
        "print(example_measures.shape)\n",
        "# example_measures = example_measures.reshape(len(example_measures), -1)\n",
        "# example_measures = example_measures.reshape(example_measures.shape[0], -1)\n",
        "prediction = clf.predict(example_measures)\n",
        "print(prediction)"
      ],
      "metadata": {
        "colab": {
          "base_uri": "https://localhost:8080/"
        },
        "id": "H_26hWPpwUFO",
        "outputId": "5581fd45-364d-45e6-9446-4369b4fa0891"
      },
      "execution_count": 39,
      "outputs": [
        {
          "output_type": "stream",
          "name": "stdout",
          "text": [
            "(2, 9)\n",
            "[2 2]\n"
          ]
        }
      ]
    },
    {
      "cell_type": "code",
      "source": [
        "import numpy as np\n",
        "import matplotlib.pyplot as plt\n",
        "from matplotlib import style\n",
        "import warnings\n",
        "from math import sqrt\n",
        "from collections import Counter\n",
        "style.use('fivethirtyeight')\n",
        "\n",
        "def k_nearest_neighbors(data, predict, k=3):\n",
        "    if len(data) >= k:\n",
        "        warnings.warn('K is set to a value less than total voting groups!')\n",
        "        \n",
        "    distances = []\n",
        "    for group in data:\n",
        "        for features in data[group]:\n",
        "            euclidean_distance = np.linalg.norm(np.array(features)-np.array(predict))\n",
        "            distances.append([euclidean_distance,group])\n",
        "\n",
        "    votes = [i[1] for i in sorted(distances)[:k]]\n",
        "    vote_result = Counter(votes).most_common(1)[0][0]\n",
        "    return vote_result\n",
        "\n",
        "dataset = {'k':[[1,2],[2,3],[3,1]], 'r':[[6,5],[7,7],[8,6]]}\n",
        "new_features = [5,7]\n",
        "[[plt.scatter(ii[0],ii[1],s=100,color=i) for ii in dataset[i]] for i in dataset]\n",
        "# same as:\n",
        "##for i in dataset:\n",
        "##    for ii in dataset[i]:\n",
        "##        plt.scatter(ii[0],ii[1],s=100,color=i)\n",
        "        \n",
        "plt.scatter(new_features[0], new_features[1], s=100)\n",
        "\n",
        "result = k_nearest_neighbors(dataset, new_features)\n",
        "plt.scatter(new_features[0], new_features[1], s=100, color = result)  \n",
        "plt.show()"
      ],
      "metadata": {
        "colab": {
          "base_uri": "https://localhost:8080/",
          "height": 282
        },
        "id": "CATatF-aIZEO",
        "outputId": "c82a9b8c-815f-44a7-e7c6-6c6b9d64be51"
      },
      "execution_count": 40,
      "outputs": [
        {
          "output_type": "display_data",
          "data": {
            "text/plain": [
              "<Figure size 432x288 with 1 Axes>"
            ],
            "image/png": "[encoded data removed]"
          },
          "metadata": {}
        }
      ]
    },
    {
      "cell_type": "code",
      "source": [
        "import numpy as np\n",
        "import matplotlib.pyplot as plt\n",
        "from matplotlib import style\n",
        "import warnings\n",
        "from collections import Counter\n",
        "#dont forget this\n",
        "import pandas as pd\n",
        "import random\n",
        "style.use('fivethirtyeight')\n",
        "\n",
        "def k_nearest_neighbors(data, predict, k=3):\n",
        "    if len(data) >= k:\n",
        "        warnings.warn('K is set to a value less than total voting groups!')\n",
        "    distances = []\n",
        "    for group in data:\n",
        "        for features in data[group]:\n",
        "            euclidean_distance = np.linalg.norm(np.array(features)-np.array(predict))\n",
        "            distances.append([euclidean_distance, group])\n",
        "\n",
        "    votes = [i[1] for i in sorted(distances)[:k]]\n",
        "    vote_result = Counter(votes).most_common(1)[0][0]\n",
        "    confidence = Counter(votes).most_common(1)[0][1] / k\n",
        "  \n",
        "    return vote_result, confidence\n",
        "\n",
        "df = pd.read_csv('breast-cancer-wisconsin.data', header=None)\n",
        "df.columns = ['id','clump_thickness','uniform_cell_size',\n",
        "'uniform_cell_shape','marginal_adhesion',\n",
        "'single_epi_cell_size','bare_nuclei','bland_chromation',\n",
        "'normal_nucleoli','mitoses','class']\n",
        "print(len(df))\n",
        "df.replace('?',-99999, inplace=True)\n",
        "df.drop(['id'], 1, inplace=True)\n",
        "full_data = df.astype(float).values.tolist()\n",
        "\n",
        "random.shuffle(full_data)\n",
        "\n",
        "test_size = 0.4\n",
        "train_set = {2:[], 4:[]}\n",
        "test_set = {2:[], 4:[]}\n",
        "train_data = full_data[:-int(test_size*len(full_data))]\n",
        "test_data = full_data[-int(test_size*len(full_data)):]\n",
        "\n",
        "for i in train_data:\n",
        "    train_set[i[-1]].append(i[:-1])\n",
        "    \n",
        "for i in test_data:\n",
        "    test_set[i[-1]].append(i[:-1])\n",
        "\n",
        "correct = 0\n",
        "total = 0\n",
        "\n",
        "for group in test_set:\n",
        "    for data in test_set[group]:\n",
        "        vote,confidence = k_nearest_neighbors(train_set, data, k=5)\n",
        "        if group == vote:\n",
        "            correct += 1\n",
        "        else:\n",
        "          print(\"Incorrect: \", confidence)\n",
        "        total += 1\n",
        "print('Accuracy:', correct/total)"
      ],
      "metadata": {
        "colab": {
          "base_uri": "https://localhost:8080/"
        },
        "id": "kLqmiyu1RaDr",
        "outputId": "a00db9a7-81ff-44e3-99d0-9a7707626a98"
      },
      "execution_count": 43,
      "outputs": [
        {
          "output_type": "stream",
          "name": "stdout",
          "text": [
            "699\n",
            "Incorrect:  0.8\n",
            "Incorrect:  0.8\n"
          ]
        },
        {
          "output_type": "stream",
          "name": "stderr",
          "text": [
            "<ipython-input-43-7de42ae956e4>:33: FutureWarning: In a future version of pandas all arguments of DataFrame.drop except for the argument 'labels' will be keyword-only\n",
            "  df.drop(['id'], 1, inplace=True)\n"
          ]
        },
        {
          "output_type": "stream",
          "name": "stdout",
          "text": [
            "Incorrect:  0.6\n",
            "Incorrect:  0.8\n",
            "Incorrect:  1.0\n",
            "Incorrect:  1.0\n",
            "Incorrect:  0.8\n",
            "Incorrect:  1.0\n",
            "Incorrect:  0.6\n",
            "Incorrect:  0.8\n",
            "Incorrect:  0.6\n",
            "Accuracy: 0.9605734767025089\n"
          ]
        }
      ]
    }
  ]
}