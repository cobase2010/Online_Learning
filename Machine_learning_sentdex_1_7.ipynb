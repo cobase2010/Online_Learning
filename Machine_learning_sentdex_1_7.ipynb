{
  "nbformat": 4,
  "nbformat_minor": 0,
  "metadata": {
    "colab": {
      "provenance": [],
      "authorship_tag": "ABX9TyOauoBNLTgyNZ6ia9JwbwYD",
      "include_colab_link": true
    },
    "kernelspec": {
      "name": "python3",
      "display_name": "Python 3"
    },
    "language_info": {
      "name": "python"
    }
  },
  "cells": [
    {
      "cell_type": "markdown",
      "metadata": {
        "id": "view-in-github",
        "colab_type": "text"
      },
      "source": [
        "<a href=\"https://colab.research.google.com/github/cobase2010/Online_Learning/blob/main/Machine_learning_sentdex_1_7.ipynb\" target=\"_parent\"><img src=\"https://colab.research.google.com/assets/colab-badge.svg\" alt=\"Open In Colab\"/></a>"
      ]
    },
    {
      "cell_type": "code",
      "source": [
        "!pip install quandl"
      ],
      "metadata": {
        "colab": {
          "base_uri": "https://localhost:8080/"
        },
        "id": "JDpsCKXV61_b",
        "outputId": "f375a8d9-d7e9-4590-836e-468916ac5b32"
      },
      "execution_count": 9,
      "outputs": [
        {
          "output_type": "stream",
          "name": "stdout",
          "text": [
            "Looking in indexes: https://pypi.org/simple, https://us-python.pkg.dev/colab-wheels/public/simple/\n",
            "Requirement already satisfied: quandl in /usr/local/lib/python3.8/dist-packages (3.7.0)\n",
            "Requirement already satisfied: more-itertools in /usr/local/lib/python3.8/dist-packages (from quandl) (9.0.0)\n",
            "Requirement already satisfied: six in /usr/local/lib/python3.8/dist-packages (from quandl) (1.15.0)\n",
            "Requirement already satisfied: numpy>=1.8 in /usr/local/lib/python3.8/dist-packages (from quandl) (1.21.6)\n",
            "Requirement already satisfied: requests>=2.7.0 in /usr/local/lib/python3.8/dist-packages (from quandl) (2.23.0)\n",
            "Requirement already satisfied: inflection>=0.3.1 in /usr/local/lib/python3.8/dist-packages (from quandl) (0.5.1)\n",
            "Requirement already satisfied: pandas>=0.14 in /usr/local/lib/python3.8/dist-packages (from quandl) (1.3.5)\n",
            "Requirement already satisfied: python-dateutil in /usr/local/lib/python3.8/dist-packages (from quandl) (2.8.2)\n",
            "Requirement already satisfied: pytz>=2017.3 in /usr/local/lib/python3.8/dist-packages (from pandas>=0.14->quandl) (2022.6)\n",
            "Requirement already satisfied: idna<3,>=2.5 in /usr/local/lib/python3.8/dist-packages (from requests>=2.7.0->quandl) (2.10)\n",
            "Requirement already satisfied: urllib3!=1.25.0,!=1.25.1,<1.26,>=1.21.1 in /usr/local/lib/python3.8/dist-packages (from requests>=2.7.0->quandl) (1.24.3)\n",
            "Requirement already satisfied: certifi>=2017.4.17 in /usr/local/lib/python3.8/dist-packages (from requests>=2.7.0->quandl) (2022.9.24)\n",
            "Requirement already satisfied: chardet<4,>=3.0.2 in /usr/local/lib/python3.8/dist-packages (from requests>=2.7.0->quandl) (3.0.4)\n"
          ]
        }
      ]
    },
    {
      "cell_type": "markdown",
      "source": [],
      "metadata": {
        "id": "fOMu77Tp7yB2"
      }
    },
    {
      "cell_type": "code",
      "source": [
        "import numpy as np\n",
        "import math, datetime, quandl\n",
        "import pandas as pd\n",
        "from sklearn import preprocessing, svm\n",
        "from sklearn.model_selection import train_test_split\n",
        "from sklearn.linear_model import LinearRegression\n",
        "import matplotlib.pyplot as plt\n",
        "from matplotlib import style\n",
        "import pickle\n",
        "\n",
        "style.use('ggplot')"
      ],
      "metadata": {
        "id": "5e1ccEAE8Vm9"
      },
      "execution_count": 10,
      "outputs": []
    },
    {
      "cell_type": "code",
      "execution_count": 11,
      "metadata": {
        "colab": {
          "base_uri": "https://localhost:8080/"
        },
        "id": "kmf3MI7m6yAI",
        "outputId": "401fb816-97ec-4725-f7fc-5a8a5f635502"
      },
      "outputs": [
        {
          "output_type": "stream",
          "name": "stdout",
          "text": [
            "              Open    High     Low    Close      Volume  Ex-Dividend  \\\n",
            "Date                                                                   \n",
            "2004-08-19  100.01  104.06   95.96  100.335  44659000.0          0.0   \n",
            "2004-08-20  101.01  109.08  100.50  108.310  22834300.0          0.0   \n",
            "2004-08-23  110.76  113.48  109.05  109.400  18256100.0          0.0   \n",
            "2004-08-24  111.24  111.60  103.57  104.870  15247300.0          0.0   \n",
            "2004-08-25  104.76  108.00  103.88  106.000   9188600.0          0.0   \n",
            "\n",
            "            Split Ratio  Adj. Open  Adj. High   Adj. Low  Adj. Close  \\\n",
            "Date                                                                   \n",
            "2004-08-19          1.0  50.159839  52.191109  48.128568   50.322842   \n",
            "2004-08-20          1.0  50.661387  54.708881  50.405597   54.322689   \n",
            "2004-08-23          1.0  55.551482  56.915693  54.693835   54.869377   \n",
            "2004-08-24          1.0  55.792225  55.972783  51.945350   52.597363   \n",
            "2004-08-25          1.0  52.542193  54.167209  52.100830   53.164113   \n",
            "\n",
            "            Adj. Volume  \n",
            "Date                     \n",
            "2004-08-19   44659000.0  \n",
            "2004-08-20   22834300.0  \n",
            "2004-08-23   18256100.0  \n",
            "2004-08-24   15247300.0  \n",
            "2004-08-25    9188600.0  \n"
          ]
        }
      ],
      "source": [
        "\n",
        "df = quandl.get('WIKI/GOOGL')\n",
        "print(df.head())\n",
        "\n"
      ]
    },
    {
      "cell_type": "code",
      "source": [
        "df = df[['Adj. Open',  'Adj. High',  'Adj. Low',  'Adj. Close', 'Adj. Volume']]\n",
        "df['HL_PCT'] = (df['Adj. High'] - df['Adj. Low']) / df['Adj. Close'] * 100.0\n",
        "\n",
        "df['PCT_change'] = (df['Adj. Close'] - df['Adj. Open']) / df['Adj. Open'] * 100.0\n",
        "df = df[['Adj. Close', 'HL_PCT', 'PCT_change', 'Adj. Volume']]\n",
        "print(df.head())"
      ],
      "metadata": {
        "colab": {
          "base_uri": "https://localhost:8080/"
        },
        "id": "vRDZA9H970fW",
        "outputId": "e692c536-0a6c-4cbd-b684-2760c100db90"
      },
      "execution_count": 12,
      "outputs": [
        {
          "output_type": "stream",
          "name": "stdout",
          "text": [
            "            Adj. Close    HL_PCT  PCT_change  Adj. Volume\n",
            "Date                                                     \n",
            "2004-08-19   50.322842  8.072956    0.324968   44659000.0\n",
            "2004-08-20   54.322689  7.921706    7.227007   22834300.0\n",
            "2004-08-23   54.869377  4.049360   -1.227880   18256100.0\n",
            "2004-08-24   52.597363  7.657099   -5.726357   15247300.0\n",
            "2004-08-25   53.164113  3.886792    1.183658    9188600.0\n"
          ]
        }
      ]
    },
    {
      "cell_type": "code",
      "source": [
        "forecast_col = 'Adj. Close'\n",
        "df.fillna(-99999, inplace=True)\n",
        "\n",
        "# forecast_out = int(math.ceil(0.003 * len(df)))\n",
        "forecast_out = int(math.ceil(0.1 * len(df)))\n",
        "print(f\"forecast_out={forecast_out}\")\n",
        "\n",
        "df['label'] = df[forecast_col].shift(-forecast_out)\n",
        "# df.dropna(inplace=True)\n",
        "print(len(df))\n",
        "# print(df.head(20))\n",
        "# print(df.tail(20))\n",
        "\n",
        "X = np.array(df.drop(['label'], 1))\n",
        "X = preprocessing.scale(X)\n",
        "X_lately = X[-forecast_out:]\n",
        "X = X[:-forecast_out]\n",
        "df.dropna(inplace=True)\n",
        "\n",
        "\n",
        "y = np.array(df['label'])\n",
        "\n",
        "\n",
        "\n",
        "X_train, X_test, y_train, y_test = train_test_split(X, y, test_size=0.2)\n",
        "\n",
        "# clf = svm.SVR()\n",
        "clf = LinearRegression(n_jobs=-1)\n",
        "clf.fit(X_train, y_train)\n",
        "\n",
        "with open('linearregression.pickle', 'wb') as f:\n",
        "  pickle.dump(clf, f)\n",
        "\n",
        "pickle_in = open('linearregression.pickle', 'rb')\n",
        "clf = pickle.load(pickle_in)\n",
        "confidence = clf.score(X_test, y_test)\n",
        "print(confidence)\n",
        "\n",
        "forecast_set = clf.predict(X_lately)\n",
        "\n",
        "# print(forecast_set, confidence, forecast_out)\n",
        "\n",
        "df['Forecast'] = np.nan\n",
        "last_date = df.iloc[-1].name\n",
        "last_unix = last_date.timestamp()\n",
        "one_day = 86400\n",
        "next_unix = last_unix + one_day\n",
        "\n",
        "for i in forecast_set:\n",
        "  next_date = datetime.datetime.fromtimestamp(next_unix)\n",
        "  next_unix += one_day\n",
        "  df.loc[next_date] = [np.nan for _ in range(len(df.columns)-1)] + [i]\n",
        "\n",
        "print(df.tail())\n",
        "df['Adj. Close'].plot()\n",
        "df['Forecast'].plot()\n",
        "plt.legend(loc=4)\n",
        "plt.xlabel('Date')\n",
        "plt.ylabel('Price')\n",
        "plt.show()\n",
        "\n",
        "\n",
        "\n"
      ],
      "metadata": {
        "colab": {
          "base_uri": "https://localhost:8080/",
          "height": 500
        },
        "id": "-nEXU_HjB73o",
        "outputId": "e4820754-b257-424e-b521-64ad1691d89b"
      },
      "execution_count": 13,
      "outputs": [
        {
          "output_type": "stream",
          "name": "stdout",
          "text": [
            "forecast_out=343\n",
            "3424\n",
            "0.8900639870488533\n"
          ]
        },
        {
          "output_type": "stream",
          "name": "stderr",
          "text": [
            "<ipython-input-13-148bc6657a47>:14: FutureWarning: In a future version of pandas all arguments of DataFrame.drop except for the argument 'labels' will be keyword-only\n",
            "  X = np.array(df.drop(['label'], 1))\n"
          ]
        },
        {
          "output_type": "stream",
          "name": "stdout",
          "text": [
            "            Adj. Close  HL_PCT  PCT_change  Adj. Volume  label     Forecast\n",
            "Date                                                                       \n",
            "2017-10-15         NaN     NaN         NaN          NaN    NaN  1366.213431\n",
            "2017-10-16         NaN     NaN         NaN          NaN    NaN  1324.149890\n",
            "2017-10-17         NaN     NaN         NaN          NaN    NaN  1298.258576\n",
            "2017-10-18         NaN     NaN         NaN          NaN    NaN  1334.149938\n",
            "2017-10-19         NaN     NaN         NaN          NaN    NaN  1292.449659\n"
          ]
        },
        {
          "output_type": "display_data",
          "data": {
            "text/plain": [
              "<Figure size 432x288 with 1 Axes>"
            ],
            "image/png": "[encoded data removed]"
          },
          "metadata": {}
        }
      ]
    },
    {
      "cell_type": "code",
      "source": [
        "print(df.columns)\n",
        "print(len(df.columns))\n",
        "\n",
        "[np.nan for _ in range(len(df.columns)-1)]"
      ],
      "metadata": {
        "colab": {
          "base_uri": "https://localhost:8080/"
        },
        "id": "BFu0Y3FMEr1N",
        "outputId": "61f850e3-49f1-486b-f5f7-0c41f27dd513"
      },
      "execution_count": 14,
      "outputs": [
        {
          "output_type": "stream",
          "name": "stdout",
          "text": [
            "Index(['Adj. Close', 'HL_PCT', 'PCT_change', 'Adj. Volume', 'label',\n",
            "       'Forecast'],\n",
            "      dtype='object')\n",
            "6\n"
          ]
        },
        {
          "output_type": "execute_result",
          "data": {
            "text/plain": [
              "[nan, nan, nan, nan, nan]"
            ]
          },
          "metadata": {},
          "execution_count": 14
        }
      ]
    },
    {
      "cell_type": "code",
      "source": [],
      "metadata": {
        "id": "yhOXLYZ6BCyQ"
      },
      "execution_count": 14,
      "outputs": []
    },
    {
      "cell_type": "code",
      "source": [
        "for k in ['linear','poly','rbf','sigmoid']:\n",
        "    clf = svm.SVR(kernel=k)\n",
        "    clf.fit(X_train, y_train)\n",
        "    confidence = clf.score(X_test, y_test)\n",
        "    print(k,confidence)"
      ],
      "metadata": {
        "colab": {
          "base_uri": "https://localhost:8080/"
        },
        "id": "3_5voTPtuEj-",
        "outputId": "fbeed59a-cbb9-46e8-8155-4cbaa3e0935b"
      },
      "execution_count": 15,
      "outputs": [
        {
          "output_type": "stream",
          "name": "stdout",
          "text": [
            "linear 0.8785342545410523\n",
            "poly 0.14652986439923876\n",
            "rbf 0.6741837078824842\n",
            "sigmoid 0.7849005756253875\n"
          ]
        }
      ]
    }
  ]
}